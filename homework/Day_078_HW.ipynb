{
 "cells": [
  {
   "cell_type": "markdown",
   "metadata": {},
   "source": [
    "## Work\n",
    "1. 請嘗試將 preproc_x 替換成以每筆資料的 min/max 進行標準化至 -1 ~ 1 間，再進行訓練\n",
    "2. 請嘗試將 mlp 疊更深 (e.g 5~10 層)，進行訓練後觀察 learning curve 的走勢\n",
    "3. (optional) 請改用 GPU 進行訓練 (如果你有 GPU 的話)，比較使用 CPU 與 GPU 的訓練速度"
   ]
  },
  {
   "cell_type": "code",
   "execution_count": 1,
   "metadata": {},
   "outputs": [
    {
     "name": "stderr",
     "output_type": "stream",
     "text": [
      "'nvidia-smi' 不是內部或外部命令、可執行的程式或批次檔。\n"
     ]
    }
   ],
   "source": [
    "## \n",
    "!nvidia-smi\n",
    "# windows environment -> checked with cmd"
   ]
  },
  {
   "cell_type": "code",
   "execution_count": 2,
   "metadata": {},
   "outputs": [
    {
     "name": "stderr",
     "output_type": "stream",
     "text": [
      "Using TensorFlow backend.\n"
     ]
    }
   ],
   "source": [
    "import os\n",
    "import keras\n",
    "\n",
    "# 請嘗試設定 GPU：os.environ\n",
    "os.environ[\"CUDA_VISIBLE_DEVICES\"] = \"\""
   ]
  },
  {
   "cell_type": "code",
   "execution_count": 3,
   "metadata": {},
   "outputs": [],
   "source": [
    "train, test = keras.datasets.cifar10.load_data()"
   ]
  },
  {
   "cell_type": "code",
   "execution_count": 4,
   "metadata": {},
   "outputs": [],
   "source": [
    "## 資料前處理\n",
    "\"\"\"\n",
    "Your code here\n",
    "\"\"\"\n",
    "def preproc_x(x, flatten=True):\n",
    "    a = x.min()\n",
    "    b = x.max()\n",
    "    x = (x-a) / (b-a)\n",
    "    if flatten:\n",
    "        x = x.reshape((len(x), -1))\n",
    "    return x\n",
    "\n",
    "def preproc_y(y, num_classes=10):\n",
    "    if y.shape[-1] == 1:\n",
    "        y = keras.utils.to_categorical(y, num_classes)\n",
    "    return y   "
   ]
  },
  {
   "cell_type": "code",
   "execution_count": 5,
   "metadata": {},
   "outputs": [],
   "source": [
    "x_train, y_train = train\n",
    "x_test, y_test = test\n",
    "\n",
    "# Preproc the inputs\n",
    "x_train = preproc_x(x_train)\n",
    "x_test = preproc_x(x_test)\n",
    "\n",
    "# Preprc the outputs\n",
    "y_train = preproc_y(y_train)\n",
    "y_test = preproc_y(y_test)"
   ]
  },
  {
   "cell_type": "code",
   "execution_count": 6,
   "metadata": {},
   "outputs": [
    {
     "name": "stdout",
     "output_type": "stream",
     "text": [
      "_________________________________________________________________\n",
      "Layer (type)                 Output Shape              Param #   \n",
      "=================================================================\n",
      "input_1 (InputLayer)         (None, 3072)              0         \n",
      "_________________________________________________________________\n",
      "hidden_layer1 (Dense)        (None, 512)               1573376   \n",
      "_________________________________________________________________\n",
      "hidden_layer2 (Dense)        (None, 256)               131328    \n",
      "_________________________________________________________________\n",
      "hidden_layer3 (Dense)        (None, 128)               32896     \n",
      "_________________________________________________________________\n",
      "hidden_layer4 (Dense)        (None, 64)                8256      \n",
      "_________________________________________________________________\n",
      "hidden_layer5 (Dense)        (None, 32)                2080      \n",
      "_________________________________________________________________\n",
      "hidden_layer6 (Dense)        (None, 16)                528       \n",
      "_________________________________________________________________\n",
      "hidden_layer7 (Dense)        (None, 8)                 136       \n",
      "_________________________________________________________________\n",
      "output (Dense)               (None, 10)                90        \n",
      "=================================================================\n",
      "Total params: 1,748,690\n",
      "Trainable params: 1,748,690\n",
      "Non-trainable params: 0\n",
      "_________________________________________________________________\n"
     ]
    }
   ],
   "source": [
    "\"\"\"Code Here\n",
    "建立你的神經網路\n",
    "\"\"\"\n",
    "def build_mlp(input_shape, output_units=10, num_neurons=[512, 256, 128, 64, 32, 16, 8]):\n",
    "    input_layer = keras.layers.Input(input_shape)\n",
    "    \n",
    "    for i, n_units in enumerate(num_neurons):\n",
    "        if i == 0:\n",
    "            x = keras.layers.Dense(units=n_units, activation=\"relu\", name=\"hidden_layer\"+str(i+1))(input_layer)\n",
    "        else:\n",
    "            x = keras.layers.Dense(units=n_units, activation=\"relu\", name=\"hidden_layer\"+str(i+1))(x)\n",
    "    \n",
    "    out = keras.layers.Dense(units=output_units, activation=\"softmax\", name=\"output\")(x)\n",
    "    \n",
    "    model = keras.models.Model(inputs=[input_layer], outputs=[out])\n",
    "    return model\n",
    "\n",
    "model = build_mlp(input_shape=x_train.shape[1:])\n",
    "model.summary()"
   ]
  },
  {
   "cell_type": "code",
   "execution_count": 7,
   "metadata": {},
   "outputs": [],
   "source": [
    "## 超參數設定\n",
    "LEARNING_RATE = 0.001\n",
    "EPOCHS = 100\n",
    "BATCH_SIZE = 256"
   ]
  },
  {
   "cell_type": "code",
   "execution_count": 8,
   "metadata": {},
   "outputs": [],
   "source": [
    "optimizer = keras.optimizers.Adam(lr=LEARNING_RATE)\n",
    "model.compile(loss=\"categorical_crossentropy\", metrics=[\"accuracy\"], optimizer=optimizer)"
   ]
  },
  {
   "cell_type": "code",
   "execution_count": 9,
   "metadata": {},
   "outputs": [
    {
     "name": "stdout",
     "output_type": "stream",
     "text": [
      "Train on 50000 samples, validate on 10000 samples\n",
      "Epoch 1/100\n",
      "50000/50000 [==============================] - 6s 130us/step - loss: 2.1180 - acc: 0.1876 - val_loss: 1.9699 - val_acc: 0.2473\n",
      "Epoch 2/100\n",
      "50000/50000 [==============================] - 3s 66us/step - loss: 1.9278 - acc: 0.2713 - val_loss: 1.8854 - val_acc: 0.3093\n",
      "Epoch 3/100\n",
      "50000/50000 [==============================] - 3s 69us/step - loss: 1.8568 - acc: 0.3159 - val_loss: 1.8027 - val_acc: 0.3434\n",
      "Epoch 4/100\n",
      "50000/50000 [==============================] - 4s 73us/step - loss: 1.7830 - acc: 0.3486 - val_loss: 1.7317 - val_acc: 0.3707\n",
      "Epoch 5/100\n",
      "50000/50000 [==============================] - 3s 70us/step - loss: 1.7226 - acc: 0.3734 - val_loss: 1.6795 - val_acc: 0.3909\n",
      "Epoch 6/100\n",
      "50000/50000 [==============================] - 3s 66us/step - loss: 1.6517 - acc: 0.4049 - val_loss: 1.5968 - val_acc: 0.4256\n",
      "Epoch 7/100\n",
      "50000/50000 [==============================] - 3s 66us/step - loss: 1.6045 - acc: 0.4223 - val_loss: 1.6059 - val_acc: 0.4260\n",
      "Epoch 8/100\n",
      "50000/50000 [==============================] - 3s 68us/step - loss: 1.5738 - acc: 0.4340 - val_loss: 1.5774 - val_acc: 0.4315\n",
      "Epoch 9/100\n",
      "50000/50000 [==============================] - 3s 65us/step - loss: 1.5294 - acc: 0.4522 - val_loss: 1.5305 - val_acc: 0.4566\n",
      "Epoch 10/100\n",
      "50000/50000 [==============================] - 3s 65us/step - loss: 1.4995 - acc: 0.4631 - val_loss: 1.5199 - val_acc: 0.4600\n",
      "Epoch 11/100\n",
      "50000/50000 [==============================] - 3s 66us/step - loss: 1.4751 - acc: 0.4716 - val_loss: 1.4992 - val_acc: 0.4674\n",
      "Epoch 12/100\n",
      "50000/50000 [==============================] - 3s 66us/step - loss: 1.4461 - acc: 0.4858 - val_loss: 1.4922 - val_acc: 0.4727\n",
      "Epoch 13/100\n",
      "50000/50000 [==============================] - 3s 67us/step - loss: 1.4181 - acc: 0.4917 - val_loss: 1.5263 - val_acc: 0.4650\n",
      "Epoch 14/100\n",
      "50000/50000 [==============================] - 3s 65us/step - loss: 1.3909 - acc: 0.5050 - val_loss: 1.4750 - val_acc: 0.4727\n",
      "Epoch 15/100\n",
      "50000/50000 [==============================] - 3s 66us/step - loss: 1.3741 - acc: 0.5088 - val_loss: 1.5186 - val_acc: 0.4622\n",
      "Epoch 16/100\n",
      "50000/50000 [==============================] - 3s 69us/step - loss: 1.3531 - acc: 0.5159 - val_loss: 1.4585 - val_acc: 0.4891\n",
      "Epoch 17/100\n",
      "50000/50000 [==============================] - 3s 66us/step - loss: 1.3260 - acc: 0.5254 - val_loss: 1.4305 - val_acc: 0.4957\n",
      "Epoch 18/100\n",
      "50000/50000 [==============================] - 3s 68us/step - loss: 1.3080 - acc: 0.5326 - val_loss: 1.4356 - val_acc: 0.4962\n",
      "Epoch 19/100\n",
      "50000/50000 [==============================] - 3s 67us/step - loss: 1.2869 - acc: 0.5386 - val_loss: 1.4417 - val_acc: 0.4947\n",
      "Epoch 20/100\n",
      "50000/50000 [==============================] - 3s 67us/step - loss: 1.2717 - acc: 0.5458 - val_loss: 1.4171 - val_acc: 0.5044\n",
      "Epoch 21/100\n",
      "50000/50000 [==============================] - 3s 69us/step - loss: 1.2456 - acc: 0.5518 - val_loss: 1.4171 - val_acc: 0.5016\n",
      "Epoch 22/100\n",
      "50000/50000 [==============================] - 3s 68us/step - loss: 1.2262 - acc: 0.5605 - val_loss: 1.4253 - val_acc: 0.5054\n",
      "Epoch 23/100\n",
      "50000/50000 [==============================] - 3s 67us/step - loss: 1.2020 - acc: 0.5700 - val_loss: 1.4019 - val_acc: 0.5121\n",
      "Epoch 24/100\n",
      "50000/50000 [==============================] - 3s 67us/step - loss: 1.1861 - acc: 0.5770 - val_loss: 1.4912 - val_acc: 0.4934\n",
      "Epoch 25/100\n",
      "50000/50000 [==============================] - 3s 68us/step - loss: 1.1765 - acc: 0.5773 - val_loss: 1.4189 - val_acc: 0.5121\n",
      "Epoch 26/100\n",
      "50000/50000 [==============================] - 3s 69us/step - loss: 1.1647 - acc: 0.5821 - val_loss: 1.4258 - val_acc: 0.5132\n",
      "Epoch 27/100\n",
      "50000/50000 [==============================] - 3s 68us/step - loss: 1.1335 - acc: 0.5942 - val_loss: 1.4514 - val_acc: 0.5117\n",
      "Epoch 28/100\n",
      "50000/50000 [==============================] - 4s 70us/step - loss: 1.1164 - acc: 0.5998 - val_loss: 1.4526 - val_acc: 0.5074\n",
      "Epoch 29/100\n",
      "50000/50000 [==============================] - 3s 67us/step - loss: 1.1020 - acc: 0.6048 - val_loss: 1.4352 - val_acc: 0.5127\n",
      "Epoch 30/100\n",
      "50000/50000 [==============================] - 3s 68us/step - loss: 1.0877 - acc: 0.6116 - val_loss: 1.4690 - val_acc: 0.5040\n",
      "Epoch 31/100\n",
      "50000/50000 [==============================] - 3s 67us/step - loss: 1.0650 - acc: 0.6191 - val_loss: 1.4721 - val_acc: 0.5110\n",
      "Epoch 32/100\n",
      "50000/50000 [==============================] - 3s 68us/step - loss: 1.0483 - acc: 0.6231 - val_loss: 1.4431 - val_acc: 0.5147\n",
      "Epoch 33/100\n",
      "50000/50000 [==============================] - 3s 69us/step - loss: 1.0327 - acc: 0.6261 - val_loss: 1.4984 - val_acc: 0.5045\n",
      "Epoch 34/100\n",
      "50000/50000 [==============================] - 3s 69us/step - loss: 1.0154 - acc: 0.6332 - val_loss: 1.4913 - val_acc: 0.5182\n",
      "Epoch 35/100\n",
      "50000/50000 [==============================] - 3s 68us/step - loss: 0.9930 - acc: 0.6412 - val_loss: 1.5676 - val_acc: 0.4939\n",
      "Epoch 36/100\n",
      "50000/50000 [==============================] - 3s 68us/step - loss: 0.9841 - acc: 0.6455 - val_loss: 1.4977 - val_acc: 0.5109\n",
      "Epoch 37/100\n",
      "50000/50000 [==============================] - 3s 69us/step - loss: 0.9699 - acc: 0.6497 - val_loss: 1.5210 - val_acc: 0.5112\n",
      "Epoch 38/100\n",
      "50000/50000 [==============================] - 3s 67us/step - loss: 0.9609 - acc: 0.6530 - val_loss: 1.5177 - val_acc: 0.5078\n",
      "Epoch 39/100\n",
      "50000/50000 [==============================] - 3s 68us/step - loss: 0.9405 - acc: 0.6615 - val_loss: 1.5805 - val_acc: 0.5033\n",
      "Epoch 40/100\n",
      "50000/50000 [==============================] - 3s 68us/step - loss: 0.9193 - acc: 0.6688 - val_loss: 1.5458 - val_acc: 0.5114\n",
      "Epoch 41/100\n",
      "50000/50000 [==============================] - 4s 71us/step - loss: 0.9073 - acc: 0.6706 - val_loss: 1.5564 - val_acc: 0.5162\n",
      "Epoch 42/100\n",
      "50000/50000 [==============================] - 4s 70us/step - loss: 0.8985 - acc: 0.6752 - val_loss: 1.6031 - val_acc: 0.5128\n",
      "Epoch 43/100\n",
      "50000/50000 [==============================] - 4s 73us/step - loss: 0.8817 - acc: 0.6809 - val_loss: 1.5684 - val_acc: 0.5177\n",
      "Epoch 44/100\n",
      "50000/50000 [==============================] - 4s 74us/step - loss: 0.8583 - acc: 0.6902 - val_loss: 1.5750 - val_acc: 0.5137\n",
      "Epoch 45/100\n",
      "50000/50000 [==============================] - 4s 78us/step - loss: 0.8386 - acc: 0.6963 - val_loss: 1.6501 - val_acc: 0.5117\n",
      "Epoch 46/100\n",
      "50000/50000 [==============================] - 4s 72us/step - loss: 0.8339 - acc: 0.6984 - val_loss: 1.6659 - val_acc: 0.5018\n",
      "Epoch 47/100\n",
      "50000/50000 [==============================] - 4s 78us/step - loss: 0.8150 - acc: 0.7060 - val_loss: 1.7114 - val_acc: 0.5068\n",
      "Epoch 48/100\n",
      "50000/50000 [==============================] - 4s 76us/step - loss: 0.8127 - acc: 0.7054 - val_loss: 1.6822 - val_acc: 0.5073\n",
      "Epoch 49/100\n",
      "50000/50000 [==============================] - 4s 79us/step - loss: 0.7929 - acc: 0.7121 - val_loss: 1.7049 - val_acc: 0.5108\n",
      "Epoch 50/100\n",
      "50000/50000 [==============================] - 4s 75us/step - loss: 0.7785 - acc: 0.7192 - val_loss: 1.7253 - val_acc: 0.5168\n",
      "Epoch 51/100\n",
      "50000/50000 [==============================] - 4s 73us/step - loss: 0.7628 - acc: 0.7244 - val_loss: 1.7660 - val_acc: 0.5108\n",
      "Epoch 52/100\n",
      "50000/50000 [==============================] - 4s 73us/step - loss: 0.7600 - acc: 0.7251 - val_loss: 1.7970 - val_acc: 0.5009\n",
      "Epoch 53/100\n",
      "50000/50000 [==============================] - 4s 75us/step - loss: 0.7449 - acc: 0.7295 - val_loss: 1.8363 - val_acc: 0.5050\n",
      "Epoch 54/100\n",
      "50000/50000 [==============================] - 4s 72us/step - loss: 0.7304 - acc: 0.7332 - val_loss: 1.8471 - val_acc: 0.5121\n",
      "Epoch 55/100\n",
      "50000/50000 [==============================] - 4s 72us/step - loss: 0.7239 - acc: 0.7369 - val_loss: 1.8555 - val_acc: 0.5071\n",
      "Epoch 56/100\n",
      "50000/50000 [==============================] - 4s 73us/step - loss: 0.7068 - acc: 0.7442 - val_loss: 1.8556 - val_acc: 0.5034\n",
      "Epoch 57/100\n",
      "50000/50000 [==============================] - 4s 72us/step - loss: 0.7013 - acc: 0.7461 - val_loss: 1.8923 - val_acc: 0.5050\n",
      "Epoch 58/100\n",
      "50000/50000 [==============================] - 4s 72us/step - loss: 0.6871 - acc: 0.7508 - val_loss: 1.9135 - val_acc: 0.5090\n",
      "Epoch 59/100\n"
     ]
    },
    {
     "name": "stdout",
     "output_type": "stream",
     "text": [
      "50000/50000 [==============================] - 4s 74us/step - loss: 0.6765 - acc: 0.7555 - val_loss: 1.9305 - val_acc: 0.5161\n",
      "Epoch 60/100\n",
      "50000/50000 [==============================] - 4s 73us/step - loss: 0.6635 - acc: 0.7603 - val_loss: 1.9534 - val_acc: 0.5122\n",
      "Epoch 61/100\n",
      "50000/50000 [==============================] - 4s 73us/step - loss: 0.6469 - acc: 0.7656 - val_loss: 1.9916 - val_acc: 0.5018\n",
      "Epoch 62/100\n",
      "50000/50000 [==============================] - 4s 72us/step - loss: 0.6497 - acc: 0.7644 - val_loss: 2.0226 - val_acc: 0.5012\n",
      "Epoch 63/100\n",
      "50000/50000 [==============================] - 4s 72us/step - loss: 0.6346 - acc: 0.7688 - val_loss: 2.0594 - val_acc: 0.5074\n",
      "Epoch 64/100\n",
      "50000/50000 [==============================] - 4s 72us/step - loss: 0.6374 - acc: 0.7690 - val_loss: 2.0481 - val_acc: 0.5061\n",
      "Epoch 65/100\n",
      "50000/50000 [==============================] - 4s 73us/step - loss: 0.6291 - acc: 0.7698 - val_loss: 2.0511 - val_acc: 0.5123\n",
      "Epoch 66/100\n",
      "50000/50000 [==============================] - 4s 73us/step - loss: 0.6107 - acc: 0.7781 - val_loss: 2.0905 - val_acc: 0.5048\n",
      "Epoch 67/100\n",
      "50000/50000 [==============================] - 4s 72us/step - loss: 0.5972 - acc: 0.7835 - val_loss: 2.0834 - val_acc: 0.5012\n",
      "Epoch 68/100\n",
      "50000/50000 [==============================] - 4s 72us/step - loss: 0.5799 - acc: 0.7883 - val_loss: 2.1605 - val_acc: 0.5076\n",
      "Epoch 69/100\n",
      "50000/50000 [==============================] - 3s 70us/step - loss: 0.5865 - acc: 0.7877 - val_loss: 2.1551 - val_acc: 0.4975\n",
      "Epoch 70/100\n",
      "50000/50000 [==============================] - 4s 73us/step - loss: 0.5828 - acc: 0.7880 - val_loss: 2.1895 - val_acc: 0.5075\n",
      "Epoch 71/100\n",
      "50000/50000 [==============================] - 4s 72us/step - loss: 0.5486 - acc: 0.8007 - val_loss: 2.2500 - val_acc: 0.5017\n",
      "Epoch 72/100\n",
      "50000/50000 [==============================] - 4s 72us/step - loss: 0.5609 - acc: 0.7947 - val_loss: 2.2085 - val_acc: 0.5033\n",
      "Epoch 73/100\n",
      "50000/50000 [==============================] - 4s 72us/step - loss: 0.5543 - acc: 0.7976 - val_loss: 2.2922 - val_acc: 0.4969\n",
      "Epoch 74/100\n",
      "50000/50000 [==============================] - 4s 75us/step - loss: 0.5492 - acc: 0.8031 - val_loss: 2.2828 - val_acc: 0.5135\n",
      "Epoch 75/100\n",
      "50000/50000 [==============================] - 4s 72us/step - loss: 0.5448 - acc: 0.8009 - val_loss: 2.3082 - val_acc: 0.4961\n",
      "Epoch 76/100\n",
      "50000/50000 [==============================] - 4s 72us/step - loss: 0.5263 - acc: 0.8083 - val_loss: 2.3578 - val_acc: 0.4918\n",
      "Epoch 77/100\n",
      "50000/50000 [==============================] - 4s 74us/step - loss: 0.5074 - acc: 0.8168 - val_loss: 2.3442 - val_acc: 0.5033\n",
      "Epoch 78/100\n",
      "50000/50000 [==============================] - 4s 72us/step - loss: 0.5286 - acc: 0.8093 - val_loss: 2.3226 - val_acc: 0.4965\n",
      "Epoch 79/100\n",
      "50000/50000 [==============================] - 4s 72us/step - loss: 0.5195 - acc: 0.8124 - val_loss: 2.3292 - val_acc: 0.4967\n",
      "Epoch 80/100\n",
      "50000/50000 [==============================] - 4s 73us/step - loss: 0.5045 - acc: 0.8173 - val_loss: 2.3350 - val_acc: 0.5052\n",
      "Epoch 81/100\n",
      "50000/50000 [==============================] - 4s 72us/step - loss: 0.4733 - acc: 0.8300 - val_loss: 2.4415 - val_acc: 0.4988\n",
      "Epoch 82/100\n",
      "50000/50000 [==============================] - 4s 70us/step - loss: 0.5044 - acc: 0.8179 - val_loss: 2.4501 - val_acc: 0.4965\n",
      "Epoch 83/100\n",
      "50000/50000 [==============================] - 4s 72us/step - loss: 0.4759 - acc: 0.8297 - val_loss: 2.4853 - val_acc: 0.5000\n",
      "Epoch 84/100\n",
      "50000/50000 [==============================] - 4s 72us/step - loss: 0.4667 - acc: 0.8291 - val_loss: 2.5735 - val_acc: 0.4922\n",
      "Epoch 85/100\n",
      "50000/50000 [==============================] - 4s 72us/step - loss: 0.4838 - acc: 0.8248 - val_loss: 2.5636 - val_acc: 0.4943\n",
      "Epoch 86/100\n",
      "50000/50000 [==============================] - 4s 72us/step - loss: 0.4674 - acc: 0.8306 - val_loss: 2.6155 - val_acc: 0.4950\n",
      "Epoch 87/100\n",
      "50000/50000 [==============================] - 4s 72us/step - loss: 0.4608 - acc: 0.8327 - val_loss: 2.5589 - val_acc: 0.4953\n",
      "Epoch 88/100\n",
      "50000/50000 [==============================] - 4s 73us/step - loss: 0.4645 - acc: 0.8334 - val_loss: 2.5814 - val_acc: 0.4961\n",
      "Epoch 89/100\n",
      "50000/50000 [==============================] - 4s 73us/step - loss: 0.4330 - acc: 0.8448 - val_loss: 2.6071 - val_acc: 0.4984\n",
      "Epoch 90/100\n",
      "50000/50000 [==============================] - 4s 72us/step - loss: 0.4572 - acc: 0.8346 - val_loss: 2.6379 - val_acc: 0.4960\n",
      "Epoch 91/100\n",
      "50000/50000 [==============================] - 4s 70us/step - loss: 0.4430 - acc: 0.8394 - val_loss: 2.6720 - val_acc: 0.4892\n",
      "Epoch 92/100\n",
      "50000/50000 [==============================] - 4s 71us/step - loss: 0.4166 - acc: 0.8514 - val_loss: 2.6947 - val_acc: 0.4983\n",
      "Epoch 93/100\n",
      "50000/50000 [==============================] - 4s 71us/step - loss: 0.4334 - acc: 0.8434 - val_loss: 2.7048 - val_acc: 0.4946\n",
      "Epoch 94/100\n",
      "50000/50000 [==============================] - 4s 72us/step - loss: 0.4575 - acc: 0.8347 - val_loss: 2.6447 - val_acc: 0.4973\n",
      "Epoch 95/100\n",
      "50000/50000 [==============================] - 4s 72us/step - loss: 0.4088 - acc: 0.8518 - val_loss: 2.7073 - val_acc: 0.4961\n",
      "Epoch 96/100\n",
      "50000/50000 [==============================] - 4s 73us/step - loss: 0.4115 - acc: 0.8517 - val_loss: 2.8212 - val_acc: 0.4927\n",
      "Epoch 97/100\n",
      "50000/50000 [==============================] - 4s 73us/step - loss: 0.4270 - acc: 0.8441 - val_loss: 2.7297 - val_acc: 0.4858\n",
      "Epoch 98/100\n",
      "50000/50000 [==============================] - 4s 71us/step - loss: 0.4048 - acc: 0.8537 - val_loss: 2.8145 - val_acc: 0.4956\n",
      "Epoch 99/100\n",
      "50000/50000 [==============================] - 4s 72us/step - loss: 0.3860 - acc: 0.8608 - val_loss: 2.8374 - val_acc: 0.4951\n",
      "Epoch 100/100\n",
      "50000/50000 [==============================] - 4s 72us/step - loss: 0.3958 - acc: 0.8576 - val_loss: 2.8738 - val_acc: 0.5034\n"
     ]
    },
    {
     "data": {
      "text/plain": [
       "<keras.callbacks.History at 0x2179dd60ba8>"
      ]
     },
     "execution_count": 9,
     "metadata": {},
     "output_type": "execute_result"
    }
   ],
   "source": [
    "model.fit(x_train, y_train, \n",
    "          epochs=EPOCHS, \n",
    "          batch_size=BATCH_SIZE, \n",
    "          validation_data=(x_test, y_test), \n",
    "          shuffle=True)"
   ]
  },
  {
   "cell_type": "code",
   "execution_count": 11,
   "metadata": {},
   "outputs": [
    {
     "data": {
      "image/png": "[encoded data removed]",
      "text/plain": [
       "<Figure size 432x288 with 1 Axes>"
      ]
     },
     "metadata": {
      "needs_background": "light"
     },
     "output_type": "display_data"
    },
    {
     "data": {
      "image/png": "[encoded data removed]",
      "text/plain": [
       "<Figure size 432x288 with 1 Axes>"
      ]
     },
     "metadata": {
      "needs_background": "light"
     },
     "output_type": "display_data"
    }
   ],
   "source": [
    "import matplotlib.pyplot as plt\n",
    "\n",
    "\n",
    "train_loss = model.history.history[\"loss\"]\n",
    "valid_loss = model.history.history[\"val_loss\"]\n",
    "\n",
    "train_acc = model.history.history[\"acc\"]\n",
    "valid_acc = model.history.history[\"val_acc\"]\n",
    "\n",
    "plt.plot(range(len(train_loss)), train_loss, label=\"train loss\")\n",
    "plt.plot(range(len(valid_loss)), valid_loss, label=\"valid loss\")\n",
    "plt.legend()\n",
    "plt.title(\"Loss\")\n",
    "plt.show()\n",
    "\n",
    "plt.plot(range(len(train_acc)), train_acc, label=\"train accuracy\")\n",
    "plt.plot(range(len(valid_acc)), valid_acc, label=\"valid accuracy\")\n",
    "plt.legend()\n",
    "plt.title(\"Accuracy\")\n",
    "plt.show()"
   ]
  }
 ],
 "metadata": {
  "kernelspec": {
   "display_name": "Python 3",
   "language": "python",
   "name": "python3"
  },
  "language_info": {
   "codemirror_mode": {
    "name": "ipython",
    "version": 3
   },
   "file_extension": ".py",
   "mimetype": "text/x-python",
   "name": "python",
   "nbconvert_exporter": "python",
   "pygments_lexer": "ipython3",
   "version": "3.6.8"
  }
 },
 "nbformat": 4,
 "nbformat_minor": 2
}
