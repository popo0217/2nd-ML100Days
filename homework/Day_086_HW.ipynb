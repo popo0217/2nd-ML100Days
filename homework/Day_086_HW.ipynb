{
 "cells": [
  {
   "cell_type": "markdown",
   "metadata": {},
   "source": [
    "## Work\n",
    "1. 試比較 save_best_only 與否的差異\n",
    "2. 請僅存入將 save_weights_only 設定為 True, 並嘗試 reset ipynb 並將模型與權重重新建回並預測 x_test"
   ]
  },
  {
   "cell_type": "code",
   "execution_count": 1,
   "metadata": {},
   "outputs": [
    {
     "name": "stderr",
     "output_type": "stream",
     "text": [
      "Using TensorFlow backend.\n"
     ]
    }
   ],
   "source": [
    "import os\n",
    "import keras\n",
    "\n",
    "# Disable GPU\n",
    "os.environ[\"CUDA_VISIBLE_DEVICES\"] = \"\""
   ]
  },
  {
   "cell_type": "code",
   "execution_count": 10,
   "metadata": {},
   "outputs": [],
   "source": [
    "train, test = keras.datasets.cifar10.load_data()"
   ]
  },
  {
   "cell_type": "code",
   "execution_count": 11,
   "metadata": {},
   "outputs": [],
   "source": [
    "## 資料前處理\n",
    "def preproc_x(x, flatten=True):\n",
    "    x = x / 255.\n",
    "    if flatten:\n",
    "        x = x.reshape((len(x), -1))\n",
    "    return x\n",
    "\n",
    "def preproc_y(y, num_classes=10):\n",
    "    if y.shape[-1] == 1:\n",
    "        y = keras.utils.to_categorical(y, num_classes)\n",
    "    return y    "
   ]
  },
  {
   "cell_type": "code",
   "execution_count": 12,
   "metadata": {},
   "outputs": [],
   "source": [
    "x_train, y_train = train\n",
    "x_test, y_test = test\n",
    "\n",
    "# Preproc the inputs\n",
    "x_train = preproc_x(x_train)\n",
    "x_test = preproc_x(x_test)\n",
    "\n",
    "# Preprc the outputs\n",
    "y_train = preproc_y(y_train)\n",
    "y_test = preproc_y(y_test)"
   ]
  },
  {
   "cell_type": "code",
   "execution_count": 13,
   "metadata": {},
   "outputs": [],
   "source": [
    "from keras.layers import BatchNormalization\n",
    "\n",
    "\"\"\"\n",
    "建立神經網路，並加入 BN layer\n",
    "\"\"\"\n",
    "def build_mlp(input_shape, output_units=10, num_neurons=[512, 256, 128]):\n",
    "    input_layer = keras.layers.Input(input_shape)\n",
    "    \n",
    "    for i, n_units in enumerate(num_neurons):\n",
    "        if i == 0:\n",
    "            x = keras.layers.Dense(units=n_units, \n",
    "                                   activation=\"relu\", \n",
    "                                   name=\"hidden_layer\"+str(i+1))(input_layer)\n",
    "            x = BatchNormalization()(x)\n",
    "        else:\n",
    "            x = keras.layers.Dense(units=n_units, \n",
    "                                   activation=\"relu\", \n",
    "                                   name=\"hidden_layer\"+str(i+1))(x)\n",
    "            x = BatchNormalization()(x)\n",
    "    \n",
    "    out = keras.layers.Dense(units=output_units, activation=\"softmax\", name=\"output\")(x)\n",
    "    \n",
    "    model = keras.models.Model(inputs=[input_layer], outputs=[out])\n",
    "    return model"
   ]
  },
  {
   "cell_type": "code",
   "execution_count": 14,
   "metadata": {},
   "outputs": [],
   "source": [
    "## 超參數設定\n",
    "LEARNING_RATE = 1e-3\n",
    "EPOCHS = 50\n",
    "BATCH_SIZE = 1024\n",
    "MOMENTUM = 0.95"
   ]
  },
  {
   "cell_type": "markdown",
   "metadata": {},
   "source": [
    "### Save-Best-Only = False"
   ]
  },
  {
   "cell_type": "code",
   "execution_count": 7,
   "metadata": {},
   "outputs": [],
   "source": [
    "\"\"\"\n",
    "# 載入 Callbacks, 並將監控目標設為 validation loss, 且只存最佳參數時的模型\n",
    "\"\"\"\n",
    "from keras.callbacks import ModelCheckpoint\n",
    "\n",
    "model_ckpt = ModelCheckpoint(filepath=\"./tmp.h5\", \n",
    "                             monitor=\"val_loss\", \n",
    "                             save_best_only=False)"
   ]
  },
  {
   "cell_type": "code",
   "execution_count": 8,
   "metadata": {},
   "outputs": [
    {
     "name": "stdout",
     "output_type": "stream",
     "text": [
      "_________________________________________________________________\n",
      "Layer (type)                 Output Shape              Param #   \n",
      "=================================================================\n",
      "input_1 (InputLayer)         (None, 3072)              0         \n",
      "_________________________________________________________________\n",
      "hidden_layer1 (Dense)        (None, 512)               1573376   \n",
      "_________________________________________________________________\n",
      "batch_normalization_1 (Batch (None, 512)               2048      \n",
      "_________________________________________________________________\n",
      "hidden_layer2 (Dense)        (None, 256)               131328    \n",
      "_________________________________________________________________\n",
      "batch_normalization_2 (Batch (None, 256)               1024      \n",
      "_________________________________________________________________\n",
      "hidden_layer3 (Dense)        (None, 128)               32896     \n",
      "_________________________________________________________________\n",
      "batch_normalization_3 (Batch (None, 128)               512       \n",
      "_________________________________________________________________\n",
      "output (Dense)               (None, 10)                1290      \n",
      "=================================================================\n",
      "Total params: 1,742,474\n",
      "Trainable params: 1,740,682\n",
      "Non-trainable params: 1,792\n",
      "_________________________________________________________________\n",
      "Train on 50000 samples, validate on 10000 samples\n",
      "Epoch 1/50\n",
      "50000/50000 [==============================] - 19s 386us/step - loss: 2.1990 - acc: 0.2735 - val_loss: 2.1318 - val_acc: 0.3040\n",
      "Epoch 2/50\n",
      "50000/50000 [==============================] - 2s 43us/step - loss: 1.7383 - acc: 0.3914 - val_loss: 1.8411 - val_acc: 0.3811\n",
      "Epoch 3/50\n",
      "50000/50000 [==============================] - 2s 42us/step - loss: 1.6116 - acc: 0.4363 - val_loss: 1.6903 - val_acc: 0.4127\n",
      "Epoch 4/50\n",
      "50000/50000 [==============================] - 2s 41us/step - loss: 1.5381 - acc: 0.4608 - val_loss: 1.6180 - val_acc: 0.4386\n",
      "Epoch 5/50\n",
      "50000/50000 [==============================] - 2s 43us/step - loss: 1.4830 - acc: 0.4813 - val_loss: 1.5951 - val_acc: 0.4433\n",
      "Epoch 6/50\n",
      "50000/50000 [==============================] - 2s 44us/step - loss: 1.4358 - acc: 0.4972 - val_loss: 1.5797 - val_acc: 0.4481\n",
      "Epoch 7/50\n",
      "50000/50000 [==============================] - 2s 49us/step - loss: 1.3986 - acc: 0.5122 - val_loss: 1.5451 - val_acc: 0.4574\n",
      "Epoch 8/50\n",
      "50000/50000 [==============================] - 3s 50us/step - loss: 1.3632 - acc: 0.5258 - val_loss: 1.5314 - val_acc: 0.4663\n",
      "Epoch 9/50\n",
      "50000/50000 [==============================] - 2s 43us/step - loss: 1.3312 - acc: 0.5369 - val_loss: 1.5300 - val_acc: 0.4633\n",
      "Epoch 10/50\n",
      "50000/50000 [==============================] - 2s 43us/step - loss: 1.3014 - acc: 0.5488 - val_loss: 1.5059 - val_acc: 0.4706\n",
      "Epoch 11/50\n",
      "50000/50000 [==============================] - 2s 44us/step - loss: 1.2741 - acc: 0.5582 - val_loss: 1.5144 - val_acc: 0.4703\n",
      "Epoch 12/50\n",
      "50000/50000 [==============================] - 2s 44us/step - loss: 1.2496 - acc: 0.5672 - val_loss: 1.4831 - val_acc: 0.4754\n",
      "Epoch 13/50\n",
      "50000/50000 [==============================] - 2s 43us/step - loss: 1.2228 - acc: 0.5771 - val_loss: 1.4834 - val_acc: 0.4794\n",
      "Epoch 14/50\n",
      "50000/50000 [==============================] - 2s 43us/step - loss: 1.1978 - acc: 0.5874 - val_loss: 1.4747 - val_acc: 0.4824\n",
      "Epoch 15/50\n",
      "50000/50000 [==============================] - 2s 45us/step - loss: 1.1733 - acc: 0.5953 - val_loss: 1.4723 - val_acc: 0.4821\n",
      "Epoch 16/50\n",
      "50000/50000 [==============================] - 2s 45us/step - loss: 1.1514 - acc: 0.6053 - val_loss: 1.4624 - val_acc: 0.4849\n",
      "Epoch 17/50\n",
      "50000/50000 [==============================] - 2s 45us/step - loss: 1.1283 - acc: 0.6133 - val_loss: 1.4708 - val_acc: 0.4838\n",
      "Epoch 18/50\n",
      "50000/50000 [==============================] - 2s 44us/step - loss: 1.1048 - acc: 0.6221 - val_loss: 1.4691 - val_acc: 0.4879\n",
      "Epoch 19/50\n",
      "50000/50000 [==============================] - 2s 44us/step - loss: 1.0827 - acc: 0.6317 - val_loss: 1.4619 - val_acc: 0.4917\n",
      "Epoch 20/50\n",
      "50000/50000 [==============================] - 2s 43us/step - loss: 1.0612 - acc: 0.6394 - val_loss: 1.4622 - val_acc: 0.4915\n",
      "Epoch 21/50\n",
      "50000/50000 [==============================] - 2s 43us/step - loss: 1.0400 - acc: 0.6476 - val_loss: 1.4531 - val_acc: 0.4969\n",
      "Epoch 22/50\n",
      "50000/50000 [==============================] - 2s 45us/step - loss: 1.0179 - acc: 0.6567 - val_loss: 1.4758 - val_acc: 0.4877\n",
      "Epoch 23/50\n",
      "50000/50000 [==============================] - 2s 44us/step - loss: 0.9981 - acc: 0.6629 - val_loss: 1.4620 - val_acc: 0.4916\n",
      "Epoch 24/50\n",
      "50000/50000 [==============================] - 2s 44us/step - loss: 0.9800 - acc: 0.6696 - val_loss: 1.4737 - val_acc: 0.4911\n",
      "Epoch 25/50\n",
      "50000/50000 [==============================] - 2s 46us/step - loss: 0.9581 - acc: 0.6791 - val_loss: 1.4708 - val_acc: 0.4933\n",
      "Epoch 26/50\n",
      "50000/50000 [==============================] - 2s 48us/step - loss: 0.9380 - acc: 0.6864 - val_loss: 1.4726 - val_acc: 0.4934\n",
      "Epoch 27/50\n",
      "50000/50000 [==============================] - 2s 47us/step - loss: 0.9176 - acc: 0.6950 - val_loss: 1.4708 - val_acc: 0.4952\n",
      "Epoch 28/50\n",
      "50000/50000 [==============================] - 2s 47us/step - loss: 0.8980 - acc: 0.7028 - val_loss: 1.4806 - val_acc: 0.4949\n",
      "Epoch 29/50\n",
      "50000/50000 [==============================] - 2s 44us/step - loss: 0.8784 - acc: 0.7114 - val_loss: 1.5046 - val_acc: 0.4868\n",
      "Epoch 30/50\n",
      "50000/50000 [==============================] - 2s 46us/step - loss: 0.8583 - acc: 0.7159 - val_loss: 1.4836 - val_acc: 0.4890\n",
      "Epoch 31/50\n",
      "50000/50000 [==============================] - 2s 47us/step - loss: 0.8390 - acc: 0.7254 - val_loss: 1.4935 - val_acc: 0.4950\n",
      "Epoch 32/50\n",
      "50000/50000 [==============================] - 2s 43us/step - loss: 0.8177 - acc: 0.7347 - val_loss: 1.5065 - val_acc: 0.4949\n",
      "Epoch 33/50\n",
      "50000/50000 [==============================] - 2s 42us/step - loss: 0.7988 - acc: 0.7422 - val_loss: 1.5007 - val_acc: 0.4965\n",
      "Epoch 34/50\n",
      "50000/50000 [==============================] - 2s 44us/step - loss: 0.7802 - acc: 0.7494 - val_loss: 1.5201 - val_acc: 0.4924\n",
      "Epoch 35/50\n",
      "50000/50000 [==============================] - 2s 44us/step - loss: 0.7611 - acc: 0.7560 - val_loss: 1.5307 - val_acc: 0.4881\n",
      "Epoch 36/50\n",
      "50000/50000 [==============================] - 2s 46us/step - loss: 0.7420 - acc: 0.7631 - val_loss: 1.5242 - val_acc: 0.4978\n",
      "Epoch 37/50\n",
      "50000/50000 [==============================] - 2s 43us/step - loss: 0.7220 - acc: 0.7708 - val_loss: 1.5301 - val_acc: 0.4957\n",
      "Epoch 38/50\n",
      "50000/50000 [==============================] - 2s 43us/step - loss: 0.7041 - acc: 0.7797 - val_loss: 1.5477 - val_acc: 0.4941\n",
      "Epoch 39/50\n",
      "50000/50000 [==============================] - 2s 43us/step - loss: 0.6869 - acc: 0.7847 - val_loss: 1.5764 - val_acc: 0.4850\n",
      "Epoch 40/50\n",
      "50000/50000 [==============================] - 2s 44us/step - loss: 0.6686 - acc: 0.7928 - val_loss: 1.5744 - val_acc: 0.4900\n",
      "Epoch 41/50\n",
      "50000/50000 [==============================] - 2s 44us/step - loss: 0.6490 - acc: 0.8014 - val_loss: 1.5721 - val_acc: 0.4948\n",
      "Epoch 42/50\n",
      "50000/50000 [==============================] - 2s 46us/step - loss: 0.6296 - acc: 0.8087 - val_loss: 1.5671 - val_acc: 0.4933\n",
      "Epoch 43/50\n",
      "50000/50000 [==============================] - 2s 47us/step - loss: 0.6138 - acc: 0.8154 - val_loss: 1.5962 - val_acc: 0.4895\n",
      "Epoch 44/50\n",
      "50000/50000 [==============================] - 2s 45us/step - loss: 0.5956 - acc: 0.8211 - val_loss: 1.6180 - val_acc: 0.4842\n",
      "Epoch 45/50\n",
      "50000/50000 [==============================] - 2s 45us/step - loss: 0.5786 - acc: 0.8288 - val_loss: 1.6139 - val_acc: 0.4934\n",
      "Epoch 46/50\n",
      "50000/50000 [==============================] - 2s 45us/step - loss: 0.5607 - acc: 0.8348 - val_loss: 1.6385 - val_acc: 0.4871\n",
      "Epoch 47/50\n",
      "50000/50000 [==============================] - 2s 44us/step - loss: 0.5431 - acc: 0.8423 - val_loss: 1.6475 - val_acc: 0.4884\n",
      "Epoch 48/50\n",
      "50000/50000 [==============================] - 2s 45us/step - loss: 0.5258 - acc: 0.8503 - val_loss: 1.6615 - val_acc: 0.4878\n",
      "Epoch 49/50\n",
      "50000/50000 [==============================] - 2s 44us/step - loss: 0.5091 - acc: 0.8565 - val_loss: 1.6672 - val_acc: 0.4869\n"
     ]
    },
    {
     "name": "stdout",
     "output_type": "stream",
     "text": [
      "Epoch 50/50\n",
      "50000/50000 [==============================] - 2s 43us/step - loss: 0.4942 - acc: 0.8619 - val_loss: 1.6905 - val_acc: 0.4845\n",
      "10000/10000 [==============================] - 1s 66us/step\n"
     ]
    }
   ],
   "source": [
    "model = build_mlp(input_shape=x_train.shape[1:])\n",
    "model.summary()\n",
    "optimizer = keras.optimizers.SGD(lr=LEARNING_RATE, nesterov=True, momentum=MOMENTUM)\n",
    "model.compile(loss=\"categorical_crossentropy\", metrics=[\"accuracy\"], optimizer=optimizer)\n",
    "\n",
    "model.fit(x_train, y_train, \n",
    "          epochs=EPOCHS, \n",
    "          batch_size=BATCH_SIZE, \n",
    "          validation_data=(x_test, y_test), \n",
    "          shuffle=True,\n",
    "          callbacks=[model_ckpt]\n",
    "         )\n",
    "\n",
    "# Collect results\n",
    "train_loss = model.history.history[\"loss\"]\n",
    "valid_loss = model.history.history[\"val_loss\"]\n",
    "train_acc = model.history.history[\"acc\"]\n",
    "valid_acc = model.history.history[\"val_acc\"]\n",
    "\n",
    "# Load back\n",
    "model = keras.models.load_model(\"./tmp.h5\")\n",
    "loss_loadback, acc_loadback = model.evaluate(x_test, y_test)"
   ]
  },
  {
   "cell_type": "code",
   "execution_count": 9,
   "metadata": {
    "scrolled": true
   },
   "outputs": [
    {
     "data": {
      "image/png": "[encoded data removed]",
      "text/plain": [
       "<Figure size 432x288 with 1 Axes>"
      ]
     },
     "metadata": {
      "needs_background": "light"
     },
     "output_type": "display_data"
    },
    {
     "data": {
      "image/png": "[encoded data removed]",
      "text/plain": [
       "<Figure size 432x288 with 1 Axes>"
      ]
     },
     "metadata": {
      "needs_background": "light"
     },
     "output_type": "display_data"
    }
   ],
   "source": [
    "import matplotlib.pyplot as plt\n",
    "%matplotlib inline\n",
    "\n",
    "plt.plot(range(len(train_loss)), train_loss, label=\"train loss\")\n",
    "plt.plot(range(len(valid_loss)), valid_loss, label=\"valid loss\")\n",
    "plt.hlines(y=loss_loadback, xmin=0, xmax=len(train_loss), colors='r', linestyles='--')\n",
    "plt.legend()\n",
    "plt.title(\"Loss\")\n",
    "plt.show()\n",
    "\n",
    "plt.plot(range(len(train_acc)), train_acc, label=\"train accuracy\")\n",
    "plt.plot(range(len(valid_acc)), valid_acc, label=\"valid accuracy\")\n",
    "plt.hlines(y=acc_loadback, xmin=0, xmax=len(train_loss), colors='r', linestyles='--')\n",
    "plt.legend()\n",
    "plt.title(\"Accuracy\")\n",
    "plt.show()"
   ]
  },
  {
   "cell_type": "markdown",
   "metadata": {},
   "source": [
    "### Save-Weights-Only = True"
   ]
  },
  {
   "cell_type": "code",
   "execution_count": 15,
   "metadata": {},
   "outputs": [],
   "source": [
    "# restart kernel and reset"
   ]
  },
  {
   "cell_type": "code",
   "execution_count": 17,
   "metadata": {},
   "outputs": [],
   "source": [
    "\"\"\"\n",
    "# 載入 Callbacks, 並將監控目標設為 validation loss, 且只存最佳參數時的模型\n",
    "\"\"\"\n",
    "from keras.callbacks import ModelCheckpoint\n",
    "\n",
    "model_ckpt = ModelCheckpoint(filepath=\"./tmp.h5\", \n",
    "                             monitor=\"val_loss\", \n",
    "                             save_weights_only=True)"
   ]
  },
  {
   "cell_type": "code",
   "execution_count": 20,
   "metadata": {},
   "outputs": [
    {
     "name": "stdout",
     "output_type": "stream",
     "text": [
      "_________________________________________________________________\n",
      "Layer (type)                 Output Shape              Param #   \n",
      "=================================================================\n",
      "input_4 (InputLayer)         (None, 3072)              0         \n",
      "_________________________________________________________________\n",
      "hidden_layer1 (Dense)        (None, 512)               1573376   \n",
      "_________________________________________________________________\n",
      "batch_normalization_10 (Batc (None, 512)               2048      \n",
      "_________________________________________________________________\n",
      "hidden_layer2 (Dense)        (None, 256)               131328    \n",
      "_________________________________________________________________\n",
      "batch_normalization_11 (Batc (None, 256)               1024      \n",
      "_________________________________________________________________\n",
      "hidden_layer3 (Dense)        (None, 128)               32896     \n",
      "_________________________________________________________________\n",
      "batch_normalization_12 (Batc (None, 128)               512       \n",
      "_________________________________________________________________\n",
      "output (Dense)               (None, 10)                1290      \n",
      "=================================================================\n",
      "Total params: 1,742,474\n",
      "Trainable params: 1,740,682\n",
      "Non-trainable params: 1,792\n",
      "_________________________________________________________________\n",
      "Train on 50000 samples, validate on 10000 samples\n",
      "Epoch 1/50\n",
      "50000/50000 [==============================] - 3s 62us/step - loss: 2.2352 - acc: 0.2655 - val_loss: 2.2124 - val_acc: 0.3010\n",
      "Epoch 2/50\n",
      "50000/50000 [==============================] - 2s 42us/step - loss: 1.7517 - acc: 0.3896 - val_loss: 1.8358 - val_acc: 0.3743\n",
      "Epoch 3/50\n",
      "50000/50000 [==============================] - 2s 44us/step - loss: 1.6268 - acc: 0.4316 - val_loss: 1.6924 - val_acc: 0.4064\n",
      "Epoch 4/50\n",
      "50000/50000 [==============================] - 2s 41us/step - loss: 1.5537 - acc: 0.4581 - val_loss: 1.6393 - val_acc: 0.4279\n",
      "Epoch 5/50\n",
      "50000/50000 [==============================] - 2s 41us/step - loss: 1.4952 - acc: 0.4781 - val_loss: 1.6049 - val_acc: 0.4351\n",
      "Epoch 6/50\n",
      "50000/50000 [==============================] - 2s 46us/step - loss: 1.4487 - acc: 0.4923 - val_loss: 1.5702 - val_acc: 0.4473\n",
      "Epoch 7/50\n",
      "50000/50000 [==============================] - 2s 45us/step - loss: 1.4082 - acc: 0.5079 - val_loss: 1.5367 - val_acc: 0.4581\n",
      "Epoch 8/50\n",
      "50000/50000 [==============================] - 2s 43us/step - loss: 1.3720 - acc: 0.5200 - val_loss: 1.5296 - val_acc: 0.4589\n",
      "Epoch 9/50\n",
      "50000/50000 [==============================] - 2s 42us/step - loss: 1.3388 - acc: 0.5341 - val_loss: 1.5121 - val_acc: 0.4642\n",
      "Epoch 10/50\n",
      "50000/50000 [==============================] - 2s 43us/step - loss: 1.3095 - acc: 0.5421 - val_loss: 1.5131 - val_acc: 0.4711\n",
      "Epoch 11/50\n",
      "50000/50000 [==============================] - 2s 43us/step - loss: 1.2828 - acc: 0.5528 - val_loss: 1.5004 - val_acc: 0.4746\n",
      "Epoch 12/50\n",
      "50000/50000 [==============================] - 2s 42us/step - loss: 1.2539 - acc: 0.5640 - val_loss: 1.4875 - val_acc: 0.4755\n",
      "Epoch 13/50\n",
      "50000/50000 [==============================] - 2s 42us/step - loss: 1.2271 - acc: 0.5742 - val_loss: 1.4762 - val_acc: 0.4834\n",
      "Epoch 14/50\n",
      "50000/50000 [==============================] - 2s 42us/step - loss: 1.2018 - acc: 0.5845 - val_loss: 1.4721 - val_acc: 0.4803\n",
      "Epoch 15/50\n",
      "50000/50000 [==============================] - 2s 44us/step - loss: 1.1793 - acc: 0.5924 - val_loss: 1.4676 - val_acc: 0.4812\n",
      "Epoch 16/50\n",
      "50000/50000 [==============================] - 2s 45us/step - loss: 1.1563 - acc: 0.6011 - val_loss: 1.4663 - val_acc: 0.4834\n",
      "Epoch 17/50\n",
      "50000/50000 [==============================] - 2s 44us/step - loss: 1.1313 - acc: 0.6114 - val_loss: 1.4613 - val_acc: 0.4867\n",
      "Epoch 18/50\n",
      "50000/50000 [==============================] - 2s 43us/step - loss: 1.1087 - acc: 0.6195 - val_loss: 1.4646 - val_acc: 0.4843\n",
      "Epoch 19/50\n",
      "50000/50000 [==============================] - 2s 44us/step - loss: 1.0870 - acc: 0.6276 - val_loss: 1.4725 - val_acc: 0.4861\n",
      "Epoch 20/50\n",
      "50000/50000 [==============================] - 2s 44us/step - loss: 1.0662 - acc: 0.6369 - val_loss: 1.4584 - val_acc: 0.4865\n",
      "Epoch 21/50\n",
      "50000/50000 [==============================] - 2s 44us/step - loss: 1.0437 - acc: 0.6458 - val_loss: 1.4769 - val_acc: 0.4818\n",
      "Epoch 22/50\n",
      "50000/50000 [==============================] - 2s 43us/step - loss: 1.0228 - acc: 0.6525 - val_loss: 1.4588 - val_acc: 0.4969\n",
      "Epoch 23/50\n",
      "50000/50000 [==============================] - 2s 44us/step - loss: 1.0012 - acc: 0.6627 - val_loss: 1.4640 - val_acc: 0.4890\n",
      "Epoch 24/50\n",
      "50000/50000 [==============================] - 2s 41us/step - loss: 0.9826 - acc: 0.6687 - val_loss: 1.4668 - val_acc: 0.4957\n",
      "Epoch 25/50\n",
      "50000/50000 [==============================] - 2s 41us/step - loss: 0.9606 - acc: 0.6772 - val_loss: 1.4818 - val_acc: 0.4910\n",
      "Epoch 26/50\n",
      "50000/50000 [==============================] - 2s 43us/step - loss: 0.9410 - acc: 0.6840 - val_loss: 1.4871 - val_acc: 0.4942\n",
      "Epoch 27/50\n",
      "50000/50000 [==============================] - 2s 42us/step - loss: 0.9216 - acc: 0.6928 - val_loss: 1.4866 - val_acc: 0.4940\n",
      "Epoch 28/50\n",
      "50000/50000 [==============================] - 2s 42us/step - loss: 0.9006 - acc: 0.6997 - val_loss: 1.4879 - val_acc: 0.4895\n",
      "Epoch 29/50\n",
      "50000/50000 [==============================] - 2s 41us/step - loss: 0.8817 - acc: 0.7073 - val_loss: 1.4854 - val_acc: 0.4969\n",
      "Epoch 30/50\n",
      "50000/50000 [==============================] - 2s 42us/step - loss: 0.8643 - acc: 0.7142 - val_loss: 1.4946 - val_acc: 0.4926\n",
      "Epoch 31/50\n",
      "50000/50000 [==============================] - 2s 42us/step - loss: 0.8426 - acc: 0.7213 - val_loss: 1.5018 - val_acc: 0.4951\n",
      "Epoch 32/50\n",
      "50000/50000 [==============================] - 2s 43us/step - loss: 0.8241 - acc: 0.7292 - val_loss: 1.5198 - val_acc: 0.4898\n",
      "Epoch 33/50\n",
      "50000/50000 [==============================] - 2s 44us/step - loss: 0.8045 - acc: 0.7389 - val_loss: 1.5069 - val_acc: 0.4979\n",
      "Epoch 34/50\n",
      "50000/50000 [==============================] - 2s 47us/step - loss: 0.7851 - acc: 0.7450 - val_loss: 1.5284 - val_acc: 0.4868\n",
      "Epoch 35/50\n",
      "50000/50000 [==============================] - 2s 43us/step - loss: 0.7657 - acc: 0.7527 - val_loss: 1.5438 - val_acc: 0.4915\n",
      "Epoch 36/50\n",
      "50000/50000 [==============================] - 2s 44us/step - loss: 0.7475 - acc: 0.7596 - val_loss: 1.5339 - val_acc: 0.4946\n",
      "Epoch 37/50\n",
      "50000/50000 [==============================] - 2s 46us/step - loss: 0.7279 - acc: 0.7699 - val_loss: 1.5547 - val_acc: 0.4912\n",
      "Epoch 38/50\n",
      "50000/50000 [==============================] - 2s 46us/step - loss: 0.7103 - acc: 0.7751 - val_loss: 1.5463 - val_acc: 0.4971\n",
      "Epoch 39/50\n",
      "50000/50000 [==============================] - 2s 45us/step - loss: 0.6907 - acc: 0.7829 - val_loss: 1.5597 - val_acc: 0.4916\n",
      "Epoch 40/50\n",
      "50000/50000 [==============================] - 2s 44us/step - loss: 0.6734 - acc: 0.7907 - val_loss: 1.5845 - val_acc: 0.4871\n",
      "Epoch 41/50\n",
      "50000/50000 [==============================] - 2s 45us/step - loss: 0.6542 - acc: 0.7967 - val_loss: 1.5838 - val_acc: 0.4912\n",
      "Epoch 42/50\n",
      "50000/50000 [==============================] - 2s 46us/step - loss: 0.6389 - acc: 0.8039 - val_loss: 1.6002 - val_acc: 0.4917\n",
      "Epoch 43/50\n",
      "50000/50000 [==============================] - 2s 44us/step - loss: 0.6187 - acc: 0.8114 - val_loss: 1.6031 - val_acc: 0.4907\n",
      "Epoch 44/50\n",
      "50000/50000 [==============================] - 2s 45us/step - loss: 0.6047 - acc: 0.8162 - val_loss: 1.6224 - val_acc: 0.4929\n",
      "Epoch 45/50\n",
      "50000/50000 [==============================] - 2s 45us/step - loss: 0.5868 - acc: 0.8253 - val_loss: 1.6179 - val_acc: 0.4929\n",
      "Epoch 46/50\n",
      "50000/50000 [==============================] - 2s 45us/step - loss: 0.5690 - acc: 0.8320 - val_loss: 1.6463 - val_acc: 0.4843\n",
      "Epoch 47/50\n",
      "50000/50000 [==============================] - 2s 44us/step - loss: 0.5533 - acc: 0.8374 - val_loss: 1.6479 - val_acc: 0.4872\n",
      "Epoch 48/50\n",
      "50000/50000 [==============================] - 2s 42us/step - loss: 0.5370 - acc: 0.8439 - val_loss: 1.6680 - val_acc: 0.4874\n",
      "Epoch 49/50\n",
      "50000/50000 [==============================] - 2s 41us/step - loss: 0.5190 - acc: 0.8498 - val_loss: 1.6828 - val_acc: 0.4871\n"
     ]
    },
    {
     "name": "stdout",
     "output_type": "stream",
     "text": [
      "Epoch 50/50\n",
      "50000/50000 [==============================] - 2s 41us/step - loss: 0.5029 - acc: 0.8578 - val_loss: 1.6899 - val_acc: 0.4871\n"
     ]
    }
   ],
   "source": [
    "model = build_mlp(input_shape=x_train.shape[1:])\n",
    "model.summary()\n",
    "optimizer = keras.optimizers.SGD(lr=LEARNING_RATE, nesterov=True, momentum=MOMENTUM)\n",
    "model.compile(loss=\"categorical_crossentropy\", metrics=[\"accuracy\"], optimizer=optimizer)\n",
    "\n",
    "model.fit(x_train, y_train, \n",
    "          epochs=EPOCHS, \n",
    "          batch_size=BATCH_SIZE, \n",
    "          validation_data=(x_test, y_test), \n",
    "          shuffle=True,\n",
    "          callbacks=[model_ckpt]\n",
    "         )\n",
    "\n",
    "# Collect results\n",
    "train_loss = model.history.history[\"loss\"]\n",
    "valid_loss = model.history.history[\"val_loss\"]\n",
    "train_acc = model.history.history[\"acc\"]\n",
    "valid_acc = model.history.history[\"val_acc\"]\n",
    "\n",
    "model.load_weights(\"./tmp.h5\")"
   ]
  },
  {
   "cell_type": "code",
   "execution_count": 21,
   "metadata": {},
   "outputs": [
    {
     "data": {
      "image/png": "[encoded data removed]",
      "text/plain": [
       "<Figure size 432x288 with 1 Axes>"
      ]
     },
     "metadata": {
      "needs_background": "light"
     },
     "output_type": "display_data"
    },
    {
     "data": {
      "image/png": "[encoded data removed]",
      "text/plain": [
       "<Figure size 432x288 with 1 Axes>"
      ]
     },
     "metadata": {
      "needs_background": "light"
     },
     "output_type": "display_data"
    }
   ],
   "source": [
    "import matplotlib.pyplot as plt\n",
    "%matplotlib inline\n",
    "\n",
    "plt.plot(range(len(train_loss)), train_loss, label=\"train loss\")\n",
    "plt.plot(range(len(valid_loss)), valid_loss, label=\"valid loss\")\n",
    "plt.hlines(y=loss_loadback, xmin=0, xmax=len(train_loss), colors='r', linestyles='--')\n",
    "plt.legend()\n",
    "plt.title(\"Loss\")\n",
    "plt.show()\n",
    "\n",
    "plt.plot(range(len(train_acc)), train_acc, label=\"train accuracy\")\n",
    "plt.plot(range(len(valid_acc)), valid_acc, label=\"valid accuracy\")\n",
    "plt.hlines(y=acc_loadback, xmin=0, xmax=len(train_loss), colors='r', linestyles='--')\n",
    "plt.legend()\n",
    "plt.title(\"Accuracy\")\n",
    "plt.show()"
   ]
  }
 ],
 "metadata": {
  "kernelspec": {
   "display_name": "Python 3",
   "language": "python",
   "name": "python3"
  },
  "language_info": {
   "codemirror_mode": {
    "name": "ipython",
    "version": 3
   },
   "file_extension": ".py",
   "mimetype": "text/x-python",
   "name": "python",
   "nbconvert_exporter": "python",
   "pygments_lexer": "ipython3",
   "version": "3.6.8"
  }
 },
 "nbformat": 4,
 "nbformat_minor": 2
}
