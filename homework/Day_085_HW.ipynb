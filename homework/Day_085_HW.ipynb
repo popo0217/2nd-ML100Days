{
 "cells": [
  {
   "cell_type": "markdown",
   "metadata": {},
   "source": [
    "## Work\n",
    "1. 試改變 monitor \"Validation Accuracy\" 並比較結果\n",
    "2. 調整 earlystop 的等待次數至 10, 25 並比較結果"
   ]
  },
  {
   "cell_type": "code",
   "execution_count": 1,
   "metadata": {},
   "outputs": [
    {
     "name": "stderr",
     "output_type": "stream",
     "text": [
      "Using TensorFlow backend.\n"
     ]
    }
   ],
   "source": [
    "import os\n",
    "import keras\n",
    "import matplotlib.pyplot as plt\n",
    "%matplotlib inline\n",
    "\n",
    "\n",
    "# Disable GPU\n",
    "os.environ[\"CUDA_VISIBLE_DEVICES\"] = \"\""
   ]
  },
  {
   "cell_type": "code",
   "execution_count": 2,
   "metadata": {},
   "outputs": [],
   "source": [
    "train, test = keras.datasets.cifar10.load_data()"
   ]
  },
  {
   "cell_type": "code",
   "execution_count": 3,
   "metadata": {},
   "outputs": [],
   "source": [
    "## 資料前處理\n",
    "def preproc_x(x, flatten=True):\n",
    "    x = x / 255.\n",
    "    if flatten:\n",
    "        x = x.reshape((len(x), -1))\n",
    "    return x\n",
    "\n",
    "def preproc_y(y, num_classes=10):\n",
    "    if y.shape[-1] == 1:\n",
    "        y = keras.utils.to_categorical(y, num_classes)\n",
    "    return y    "
   ]
  },
  {
   "cell_type": "code",
   "execution_count": 4,
   "metadata": {},
   "outputs": [],
   "source": [
    "x_train, y_train = train\n",
    "x_test, y_test = test\n",
    "\n",
    "# Preproc the inputs\n",
    "x_train = preproc_x(x_train)\n",
    "x_test = preproc_x(x_test)\n",
    "\n",
    "# Preprc the outputs\n",
    "y_train = preproc_y(y_train)\n",
    "y_test = preproc_y(y_test)"
   ]
  },
  {
   "cell_type": "code",
   "execution_count": 5,
   "metadata": {},
   "outputs": [],
   "source": [
    "from keras.layers import BatchNormalization\n",
    "\n",
    "\"\"\"\n",
    "建立神經網路，並加入 BN layer\n",
    "\"\"\"\n",
    "def build_mlp(input_shape, output_units=10, num_neurons=[512, 256, 128]):\n",
    "    input_layer = keras.layers.Input(input_shape)\n",
    "    \n",
    "    for i, n_units in enumerate(num_neurons):\n",
    "        if i == 0:\n",
    "            x = keras.layers.Dense(units=n_units, \n",
    "                                   activation=\"relu\", \n",
    "                                   name=\"hidden_layer\"+str(i+1))(input_layer)\n",
    "            x = BatchNormalization()(x)\n",
    "        else:\n",
    "            x = keras.layers.Dense(units=n_units, \n",
    "                                   activation=\"relu\", \n",
    "                                   name=\"hidden_layer\"+str(i+1))(x)\n",
    "            x = BatchNormalization()(x)\n",
    "    \n",
    "    out = keras.layers.Dense(units=output_units, activation=\"softmax\", name=\"output\")(x)\n",
    "    \n",
    "    model = keras.models.Model(inputs=[input_layer], outputs=[out])\n",
    "    return model"
   ]
  },
  {
   "cell_type": "code",
   "execution_count": 6,
   "metadata": {},
   "outputs": [],
   "source": [
    "## 超參數設定\n",
    "LEARNING_RATE = 1e-3\n",
    "EPOCHS = 50\n",
    "BATCH_SIZE = 1024\n",
    "MOMENTUM = 0.95"
   ]
  },
  {
   "cell_type": "code",
   "execution_count": 9,
   "metadata": {},
   "outputs": [],
   "source": [
    "# validation accuracy, patience = 10\n",
    "from keras.callbacks import EarlyStopping\n",
    "\n",
    "earlystop = EarlyStopping(monitor=\"val_acc\", \n",
    "                          patience=10, \n",
    "                          verbose=1\n",
    "                          )"
   ]
  },
  {
   "cell_type": "code",
   "execution_count": 10,
   "metadata": {},
   "outputs": [
    {
     "name": "stdout",
     "output_type": "stream",
     "text": [
      "_________________________________________________________________\n",
      "Layer (type)                 Output Shape              Param #   \n",
      "=================================================================\n",
      "input_1 (InputLayer)         (None, 3072)              0         \n",
      "_________________________________________________________________\n",
      "hidden_layer1 (Dense)        (None, 512)               1573376   \n",
      "_________________________________________________________________\n",
      "batch_normalization_1 (Batch (None, 512)               2048      \n",
      "_________________________________________________________________\n",
      "hidden_layer2 (Dense)        (None, 256)               131328    \n",
      "_________________________________________________________________\n",
      "batch_normalization_2 (Batch (None, 256)               1024      \n",
      "_________________________________________________________________\n",
      "hidden_layer3 (Dense)        (None, 128)               32896     \n",
      "_________________________________________________________________\n",
      "batch_normalization_3 (Batch (None, 128)               512       \n",
      "_________________________________________________________________\n",
      "output (Dense)               (None, 10)                1290      \n",
      "=================================================================\n",
      "Total params: 1,742,474\n",
      "Trainable params: 1,740,682\n",
      "Non-trainable params: 1,792\n",
      "_________________________________________________________________\n",
      "Train on 50000 samples, validate on 10000 samples\n",
      "Epoch 1/50\n",
      "50000/50000 [==============================] - 55s 1ms/step - loss: 2.2051 - acc: 0.2738 - val_loss: 2.0903 - val_acc: 0.3154\n",
      "Epoch 2/50\n",
      "50000/50000 [==============================] - 2s 49us/step - loss: 1.7295 - acc: 0.3974 - val_loss: 1.7997 - val_acc: 0.3820\n",
      "Epoch 3/50\n",
      "50000/50000 [==============================] - 2s 44us/step - loss: 1.6067 - acc: 0.4394 - val_loss: 1.6806 - val_acc: 0.4064\n",
      "Epoch 4/50\n",
      "50000/50000 [==============================] - 2s 44us/step - loss: 1.5314 - acc: 0.4644 - val_loss: 1.6149 - val_acc: 0.4287\n",
      "Epoch 5/50\n",
      "50000/50000 [==============================] - 2s 43us/step - loss: 1.4782 - acc: 0.4832 - val_loss: 1.5875 - val_acc: 0.4412\n",
      "Epoch 6/50\n",
      "50000/50000 [==============================] - 2s 43us/step - loss: 1.4335 - acc: 0.4978 - val_loss: 1.5493 - val_acc: 0.4524\n",
      "Epoch 7/50\n",
      "50000/50000 [==============================] - 2s 47us/step - loss: 1.3936 - acc: 0.5145 - val_loss: 1.5383 - val_acc: 0.4596\n",
      "Epoch 8/50\n",
      "50000/50000 [==============================] - 3s 51us/step - loss: 1.3591 - acc: 0.5236 - val_loss: 1.5359 - val_acc: 0.4574\n",
      "Epoch 9/50\n",
      "50000/50000 [==============================] - 2s 43us/step - loss: 1.3277 - acc: 0.5343 - val_loss: 1.5048 - val_acc: 0.4692\n",
      "Epoch 10/50\n",
      "50000/50000 [==============================] - 2s 43us/step - loss: 1.2971 - acc: 0.5455 - val_loss: 1.4917 - val_acc: 0.4748\n",
      "Epoch 11/50\n",
      "50000/50000 [==============================] - 2s 43us/step - loss: 1.2708 - acc: 0.5566 - val_loss: 1.4781 - val_acc: 0.4800\n",
      "Epoch 12/50\n",
      "50000/50000 [==============================] - 2s 47us/step - loss: 1.2442 - acc: 0.5671 - val_loss: 1.4769 - val_acc: 0.4827\n",
      "Epoch 13/50\n",
      "50000/50000 [==============================] - 2s 45us/step - loss: 1.2192 - acc: 0.5763 - val_loss: 1.4670 - val_acc: 0.4843\n",
      "Epoch 14/50\n",
      "50000/50000 [==============================] - 2s 46us/step - loss: 1.1955 - acc: 0.5839 - val_loss: 1.4663 - val_acc: 0.4905\n",
      "Epoch 15/50\n",
      "50000/50000 [==============================] - 2s 46us/step - loss: 1.1713 - acc: 0.5929 - val_loss: 1.4596 - val_acc: 0.4887\n",
      "Epoch 16/50\n",
      "50000/50000 [==============================] - 2s 47us/step - loss: 1.1477 - acc: 0.6045 - val_loss: 1.4550 - val_acc: 0.4890\n",
      "Epoch 17/50\n",
      "50000/50000 [==============================] - 2s 46us/step - loss: 1.1247 - acc: 0.6128 - val_loss: 1.4541 - val_acc: 0.4932\n",
      "Epoch 18/50\n",
      "50000/50000 [==============================] - 2s 47us/step - loss: 1.1010 - acc: 0.6217 - val_loss: 1.4434 - val_acc: 0.4960\n",
      "Epoch 19/50\n",
      "50000/50000 [==============================] - 2s 45us/step - loss: 1.0798 - acc: 0.6298 - val_loss: 1.4629 - val_acc: 0.4902\n",
      "Epoch 20/50\n",
      "50000/50000 [==============================] - 2s 44us/step - loss: 1.0578 - acc: 0.6388 - val_loss: 1.4613 - val_acc: 0.4941\n",
      "Epoch 21/50\n",
      "50000/50000 [==============================] - 2s 45us/step - loss: 1.0367 - acc: 0.6464 - val_loss: 1.4555 - val_acc: 0.4946\n",
      "Epoch 22/50\n",
      "50000/50000 [==============================] - 2s 45us/step - loss: 1.0158 - acc: 0.6559 - val_loss: 1.4503 - val_acc: 0.4975\n",
      "Epoch 23/50\n",
      "50000/50000 [==============================] - 2s 44us/step - loss: 0.9949 - acc: 0.6637 - val_loss: 1.4685 - val_acc: 0.4924\n",
      "Epoch 24/50\n",
      "50000/50000 [==============================] - 2s 44us/step - loss: 0.9749 - acc: 0.6707 - val_loss: 1.4631 - val_acc: 0.4971\n",
      "Epoch 25/50\n",
      "50000/50000 [==============================] - 2s 45us/step - loss: 0.9538 - acc: 0.6803 - val_loss: 1.4641 - val_acc: 0.4933\n",
      "Epoch 26/50\n",
      "50000/50000 [==============================] - 2s 44us/step - loss: 0.9356 - acc: 0.6853 - val_loss: 1.4663 - val_acc: 0.5008\n",
      "Epoch 27/50\n",
      "50000/50000 [==============================] - 2s 44us/step - loss: 0.9145 - acc: 0.6957 - val_loss: 1.4582 - val_acc: 0.5043\n",
      "Epoch 28/50\n",
      "50000/50000 [==============================] - 2s 45us/step - loss: 0.8938 - acc: 0.7036 - val_loss: 1.4851 - val_acc: 0.4935\n",
      "Epoch 29/50\n",
      "50000/50000 [==============================] - 2s 45us/step - loss: 0.8747 - acc: 0.7114 - val_loss: 1.4717 - val_acc: 0.4995\n",
      "Epoch 30/50\n",
      "50000/50000 [==============================] - 2s 44us/step - loss: 0.8559 - acc: 0.7181 - val_loss: 1.4774 - val_acc: 0.4975\n",
      "Epoch 31/50\n",
      "50000/50000 [==============================] - 2s 45us/step - loss: 0.8357 - acc: 0.7249 - val_loss: 1.4926 - val_acc: 0.4942\n",
      "Epoch 32/50\n",
      "50000/50000 [==============================] - 2s 45us/step - loss: 0.8159 - acc: 0.7335 - val_loss: 1.5073 - val_acc: 0.4942\n",
      "Epoch 33/50\n",
      "50000/50000 [==============================] - 2s 44us/step - loss: 0.7960 - acc: 0.7407 - val_loss: 1.5025 - val_acc: 0.4941\n",
      "Epoch 34/50\n",
      "50000/50000 [==============================] - 2s 45us/step - loss: 0.7774 - acc: 0.7476 - val_loss: 1.5071 - val_acc: 0.4987\n",
      "Epoch 35/50\n",
      "50000/50000 [==============================] - 2s 47us/step - loss: 0.7595 - acc: 0.7553 - val_loss: 1.5151 - val_acc: 0.4968\n",
      "Epoch 36/50\n",
      "50000/50000 [==============================] - 2s 45us/step - loss: 0.7412 - acc: 0.7633 - val_loss: 1.5426 - val_acc: 0.4951\n",
      "Epoch 37/50\n",
      "50000/50000 [==============================] - 2s 45us/step - loss: 0.7213 - acc: 0.7704 - val_loss: 1.5320 - val_acc: 0.4919\n",
      "Epoch 00037: early stopping\n"
     ]
    }
   ],
   "source": [
    "model = build_mlp(input_shape=x_train.shape[1:])\n",
    "model.summary()\n",
    "optimizer = keras.optimizers.SGD(lr=LEARNING_RATE, nesterov=True, momentum=MOMENTUM)\n",
    "model.compile(loss=\"categorical_crossentropy\", metrics=[\"accuracy\"], optimizer=optimizer)\n",
    "\n",
    "model.fit(x_train, y_train, \n",
    "          epochs=EPOCHS, \n",
    "          batch_size=BATCH_SIZE, \n",
    "          validation_data=(x_test, y_test), \n",
    "          shuffle=True,\n",
    "          callbacks=[earlystop]\n",
    "         )\n",
    "\n",
    "# Collect results\n",
    "train_loss = model.history.history[\"loss\"]\n",
    "valid_loss = model.history.history[\"val_loss\"]\n",
    "train_acc = model.history.history[\"acc\"]\n",
    "valid_acc = model.history.history[\"val_acc\"]"
   ]
  },
  {
   "cell_type": "code",
   "execution_count": 11,
   "metadata": {},
   "outputs": [
    {
     "data": {
      "image/png": "[encoded data removed]",
      "text/plain": [
       "<Figure size 432x288 with 1 Axes>"
      ]
     },
     "metadata": {
      "needs_background": "light"
     },
     "output_type": "display_data"
    },
    {
     "data": {
      "image/png": "[encoded data removed]",
      "text/plain": [
       "<Figure size 432x288 with 1 Axes>"
      ]
     },
     "metadata": {
      "needs_background": "light"
     },
     "output_type": "display_data"
    }
   ],
   "source": [
    "import matplotlib.pyplot as plt\n",
    "%matplotlib inline\n",
    "\n",
    "plt.plot(range(len(train_loss)), train_loss, label=\"train loss\")\n",
    "plt.plot(range(len(valid_loss)), valid_loss, label=\"valid loss\")\n",
    "plt.legend()\n",
    "plt.title(\"Loss\")\n",
    "plt.show()\n",
    "\n",
    "plt.plot(range(len(train_acc)), train_acc, label=\"train accuracy\")\n",
    "plt.plot(range(len(valid_acc)), valid_acc, label=\"valid accuracy\")\n",
    "plt.legend()\n",
    "plt.title(\"Accuracy\")\n",
    "plt.show()"
   ]
  },
  {
   "cell_type": "code",
   "execution_count": 12,
   "metadata": {},
   "outputs": [],
   "source": [
    "# validation accuracy, patience = 25\n",
    "from keras.callbacks import EarlyStopping\n",
    "\n",
    "earlystop = EarlyStopping(monitor=\"val_acc\", \n",
    "                          patience=25, \n",
    "                          verbose=1\n",
    "                          )"
   ]
  },
  {
   "cell_type": "code",
   "execution_count": 13,
   "metadata": {},
   "outputs": [
    {
     "name": "stdout",
     "output_type": "stream",
     "text": [
      "_________________________________________________________________\n",
      "Layer (type)                 Output Shape              Param #   \n",
      "=================================================================\n",
      "input_2 (InputLayer)         (None, 3072)              0         \n",
      "_________________________________________________________________\n",
      "hidden_layer1 (Dense)        (None, 512)               1573376   \n",
      "_________________________________________________________________\n",
      "batch_normalization_4 (Batch (None, 512)               2048      \n",
      "_________________________________________________________________\n",
      "hidden_layer2 (Dense)        (None, 256)               131328    \n",
      "_________________________________________________________________\n",
      "batch_normalization_5 (Batch (None, 256)               1024      \n",
      "_________________________________________________________________\n",
      "hidden_layer3 (Dense)        (None, 128)               32896     \n",
      "_________________________________________________________________\n",
      "batch_normalization_6 (Batch (None, 128)               512       \n",
      "_________________________________________________________________\n",
      "output (Dense)               (None, 10)                1290      \n",
      "=================================================================\n",
      "Total params: 1,742,474\n",
      "Trainable params: 1,740,682\n",
      "Non-trainable params: 1,792\n",
      "_________________________________________________________________\n",
      "Train on 50000 samples, validate on 10000 samples\n",
      "Epoch 1/50\n",
      "50000/50000 [==============================] - 3s 60us/step - loss: 2.2091 - acc: 0.2705 - val_loss: 2.1805 - val_acc: 0.3083\n",
      "Epoch 2/50\n",
      "50000/50000 [==============================] - 2s 44us/step - loss: 1.7518 - acc: 0.3890 - val_loss: 1.8417 - val_acc: 0.3774\n",
      "Epoch 3/50\n",
      "50000/50000 [==============================] - 2s 44us/step - loss: 1.6266 - acc: 0.4306 - val_loss: 1.7079 - val_acc: 0.4077\n",
      "Epoch 4/50\n",
      "50000/50000 [==============================] - 2s 44us/step - loss: 1.5500 - acc: 0.4577 - val_loss: 1.6456 - val_acc: 0.4218\n",
      "Epoch 5/50\n",
      "50000/50000 [==============================] - 2s 44us/step - loss: 1.4955 - acc: 0.4764 - val_loss: 1.6180 - val_acc: 0.4315\n",
      "Epoch 6/50\n",
      "50000/50000 [==============================] - 2s 43us/step - loss: 1.4507 - acc: 0.4936 - val_loss: 1.5849 - val_acc: 0.4443\n",
      "Epoch 7/50\n",
      "50000/50000 [==============================] - 2s 45us/step - loss: 1.4118 - acc: 0.5076 - val_loss: 1.5562 - val_acc: 0.4499\n",
      "Epoch 8/50\n",
      "50000/50000 [==============================] - 2s 45us/step - loss: 1.3760 - acc: 0.5194 - val_loss: 1.5352 - val_acc: 0.4601\n",
      "Epoch 9/50\n",
      "50000/50000 [==============================] - 2s 44us/step - loss: 1.3438 - acc: 0.5319 - val_loss: 1.5274 - val_acc: 0.4636\n",
      "Epoch 10/50\n",
      "50000/50000 [==============================] - 2s 45us/step - loss: 1.3154 - acc: 0.5407 - val_loss: 1.5033 - val_acc: 0.4728\n",
      "Epoch 11/50\n",
      "50000/50000 [==============================] - 2s 44us/step - loss: 1.2885 - acc: 0.5520 - val_loss: 1.5064 - val_acc: 0.4678\n",
      "Epoch 12/50\n",
      "50000/50000 [==============================] - 2s 44us/step - loss: 1.2604 - acc: 0.5620 - val_loss: 1.5020 - val_acc: 0.4710\n",
      "Epoch 13/50\n",
      "50000/50000 [==============================] - 2s 43us/step - loss: 1.2371 - acc: 0.5693 - val_loss: 1.4861 - val_acc: 0.4801\n",
      "Epoch 14/50\n",
      "50000/50000 [==============================] - 2s 48us/step - loss: 1.2134 - acc: 0.5778 - val_loss: 1.4814 - val_acc: 0.4789\n",
      "Epoch 15/50\n",
      "50000/50000 [==============================] - 2s 45us/step - loss: 1.1877 - acc: 0.5881 - val_loss: 1.4780 - val_acc: 0.4780\n",
      "Epoch 16/50\n",
      "50000/50000 [==============================] - 2s 45us/step - loss: 1.1663 - acc: 0.5984 - val_loss: 1.4665 - val_acc: 0.4857\n",
      "Epoch 17/50\n",
      "50000/50000 [==============================] - 2s 44us/step - loss: 1.1426 - acc: 0.6072 - val_loss: 1.4629 - val_acc: 0.4864\n",
      "Epoch 18/50\n",
      "50000/50000 [==============================] - 2s 49us/step - loss: 1.1223 - acc: 0.6139 - val_loss: 1.4604 - val_acc: 0.4867\n",
      "Epoch 19/50\n",
      "50000/50000 [==============================] - 2s 45us/step - loss: 1.0995 - acc: 0.6232 - val_loss: 1.4598 - val_acc: 0.4850\n",
      "Epoch 20/50\n",
      "50000/50000 [==============================] - 2s 44us/step - loss: 1.0796 - acc: 0.6286 - val_loss: 1.4635 - val_acc: 0.4890\n",
      "Epoch 21/50\n",
      "50000/50000 [==============================] - 2s 43us/step - loss: 1.0578 - acc: 0.6396 - val_loss: 1.4527 - val_acc: 0.4960\n",
      "Epoch 22/50\n",
      "50000/50000 [==============================] - 2s 43us/step - loss: 1.0366 - acc: 0.6478 - val_loss: 1.4621 - val_acc: 0.4911\n",
      "Epoch 23/50\n",
      "50000/50000 [==============================] - 2s 44us/step - loss: 1.0179 - acc: 0.6543 - val_loss: 1.4693 - val_acc: 0.4889\n",
      "Epoch 24/50\n",
      "50000/50000 [==============================] - 2s 43us/step - loss: 0.9983 - acc: 0.6617 - val_loss: 1.4793 - val_acc: 0.4842\n",
      "Epoch 25/50\n",
      "50000/50000 [==============================] - 2s 41us/step - loss: 0.9787 - acc: 0.6697 - val_loss: 1.4667 - val_acc: 0.4933\n",
      "Epoch 26/50\n",
      "50000/50000 [==============================] - 2s 41us/step - loss: 0.9571 - acc: 0.6780 - val_loss: 1.4675 - val_acc: 0.4927\n",
      "Epoch 27/50\n",
      "50000/50000 [==============================] - 2s 41us/step - loss: 0.9369 - acc: 0.6852 - val_loss: 1.4795 - val_acc: 0.4879\n",
      "Epoch 28/50\n",
      "50000/50000 [==============================] - 2s 41us/step - loss: 0.9203 - acc: 0.6921 - val_loss: 1.4941 - val_acc: 0.4798\n",
      "Epoch 29/50\n",
      "50000/50000 [==============================] - 2s 40us/step - loss: 0.8998 - acc: 0.7002 - val_loss: 1.4794 - val_acc: 0.4892\n",
      "Epoch 30/50\n",
      "50000/50000 [==============================] - 2s 40us/step - loss: 0.8815 - acc: 0.7056 - val_loss: 1.4898 - val_acc: 0.4923\n",
      "Epoch 31/50\n",
      "50000/50000 [==============================] - 2s 41us/step - loss: 0.8594 - acc: 0.7166 - val_loss: 1.5037 - val_acc: 0.4826\n",
      "Epoch 32/50\n",
      "50000/50000 [==============================] - 2s 41us/step - loss: 0.8434 - acc: 0.7225 - val_loss: 1.5074 - val_acc: 0.4869\n",
      "Epoch 33/50\n",
      "50000/50000 [==============================] - 2s 40us/step - loss: 0.8241 - acc: 0.7299 - val_loss: 1.4979 - val_acc: 0.4887\n",
      "Epoch 34/50\n",
      "50000/50000 [==============================] - 2s 40us/step - loss: 0.8057 - acc: 0.7360 - val_loss: 1.5115 - val_acc: 0.4927\n",
      "Epoch 35/50\n",
      "50000/50000 [==============================] - 2s 42us/step - loss: 0.7852 - acc: 0.7448 - val_loss: 1.5135 - val_acc: 0.4880\n",
      "Epoch 36/50\n",
      "50000/50000 [==============================] - 2s 41us/step - loss: 0.7689 - acc: 0.7519 - val_loss: 1.5430 - val_acc: 0.4903\n",
      "Epoch 37/50\n",
      "50000/50000 [==============================] - 2s 41us/step - loss: 0.7505 - acc: 0.7610 - val_loss: 1.5544 - val_acc: 0.4773\n",
      "Epoch 38/50\n",
      "50000/50000 [==============================] - 2s 40us/step - loss: 0.7318 - acc: 0.7661 - val_loss: 1.5445 - val_acc: 0.4854\n",
      "Epoch 39/50\n",
      "50000/50000 [==============================] - 2s 41us/step - loss: 0.7114 - acc: 0.7756 - val_loss: 1.5555 - val_acc: 0.4878\n",
      "Epoch 40/50\n",
      "50000/50000 [==============================] - 2s 42us/step - loss: 0.6962 - acc: 0.7812 - val_loss: 1.5795 - val_acc: 0.4893\n",
      "Epoch 41/50\n",
      "50000/50000 [==============================] - 2s 44us/step - loss: 0.6764 - acc: 0.7890 - val_loss: 1.5681 - val_acc: 0.4861\n",
      "Epoch 42/50\n",
      "50000/50000 [==============================] - 2s 43us/step - loss: 0.6576 - acc: 0.7949 - val_loss: 1.5731 - val_acc: 0.4853\n",
      "Epoch 43/50\n",
      "50000/50000 [==============================] - 2s 43us/step - loss: 0.6424 - acc: 0.8018 - val_loss: 1.5960 - val_acc: 0.4830\n",
      "Epoch 44/50\n",
      "50000/50000 [==============================] - 2s 41us/step - loss: 0.6247 - acc: 0.8092 - val_loss: 1.5930 - val_acc: 0.4884\n",
      "Epoch 45/50\n",
      "50000/50000 [==============================] - 2s 41us/step - loss: 0.6065 - acc: 0.8162 - val_loss: 1.6201 - val_acc: 0.4841\n",
      "Epoch 46/50\n",
      "50000/50000 [==============================] - 2s 41us/step - loss: 0.5903 - acc: 0.8229 - val_loss: 1.6306 - val_acc: 0.4823\n",
      "Epoch 00046: early stopping\n"
     ]
    }
   ],
   "source": [
    "model = build_mlp(input_shape=x_train.shape[1:])\n",
    "model.summary()\n",
    "optimizer = keras.optimizers.SGD(lr=LEARNING_RATE, nesterov=True, momentum=MOMENTUM)\n",
    "model.compile(loss=\"categorical_crossentropy\", metrics=[\"accuracy\"], optimizer=optimizer)\n",
    "\n",
    "model.fit(x_train, y_train, \n",
    "          epochs=EPOCHS, \n",
    "          batch_size=BATCH_SIZE, \n",
    "          validation_data=(x_test, y_test), \n",
    "          shuffle=True,\n",
    "          callbacks=[earlystop]\n",
    "         )\n",
    "\n",
    "# Collect results\n",
    "train_loss = model.history.history[\"loss\"]\n",
    "valid_loss = model.history.history[\"val_loss\"]\n",
    "train_acc = model.history.history[\"acc\"]\n",
    "valid_acc = model.history.history[\"val_acc\"]"
   ]
  },
  {
   "cell_type": "code",
   "execution_count": 14,
   "metadata": {},
   "outputs": [
    {
     "data": {
      "image/png": "[encoded data removed]",
      "text/plain": [
       "<Figure size 432x288 with 1 Axes>"
      ]
     },
     "metadata": {
      "needs_background": "light"
     },
     "output_type": "display_data"
    },
    {
     "data": {
      "image/png": "[encoded data removed]",
      "text/plain": [
       "<Figure size 432x288 with 1 Axes>"
      ]
     },
     "metadata": {
      "needs_background": "light"
     },
     "output_type": "display_data"
    }
   ],
   "source": [
    "import matplotlib.pyplot as plt\n",
    "%matplotlib inline\n",
    "\n",
    "plt.plot(range(len(train_loss)), train_loss, label=\"train loss\")\n",
    "plt.plot(range(len(valid_loss)), valid_loss, label=\"valid loss\")\n",
    "plt.legend()\n",
    "plt.title(\"Loss\")\n",
    "plt.show()\n",
    "\n",
    "plt.plot(range(len(train_acc)), train_acc, label=\"train accuracy\")\n",
    "plt.plot(range(len(valid_acc)), valid_acc, label=\"valid accuracy\")\n",
    "plt.legend()\n",
    "plt.title(\"Accuracy\")\n",
    "plt.show()"
   ]
  }
 ],
 "metadata": {
  "kernelspec": {
   "display_name": "Python 3",
   "language": "python",
   "name": "python3"
  },
  "language_info": {
   "codemirror_mode": {
    "name": "ipython",
    "version": 3
   },
   "file_extension": ".py",
   "mimetype": "text/x-python",
   "name": "python",
   "nbconvert_exporter": "python",
   "pygments_lexer": "ipython3",
   "version": "3.6.8"
  }
 },
 "nbformat": 4,
 "nbformat_minor": 2
}
